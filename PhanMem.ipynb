{
 "cells": [
  {
   "cell_type": "code",
   "execution_count": 1,
   "id": "initial_id",
   "metadata": {
    "collapsed": true,
    "ExecuteTime": {
     "end_time": "2024-03-30T07:53:42.618896Z",
     "start_time": "2024-03-30T07:53:37.909360Z"
    }
   },
   "outputs": [],
   "source": [
    "import pandas as pd\n",
    "from sklearn.model_selection import train_test_split\n",
    "\n",
    "# Giả sử bạn có một tập dữ liệu có các cột \"user_id\", \"product_id\", \"purchase_count\"\n",
    "data = pd.read_csv('purchase_history.csv')\n",
    "\n",
    "# Chia dữ liệu thành tập huấn luyện và tập kiểm tra\n",
    "train_data, test_data = train_test_split(data, test_size=0.2)\n"
   ]
  },
  {
   "cell_type": "code",
   "outputs": [
    {
     "data": {
      "text/plain": "KMeans(n_clusters=12)",
      "text/html": "<style>#sk-container-id-1 {\n  /* Definition of color scheme common for light and dark mode */\n  --sklearn-color-text: black;\n  --sklearn-color-line: gray;\n  /* Definition of color scheme for unfitted estimators */\n  --sklearn-color-unfitted-level-0: #fff5e6;\n  --sklearn-color-unfitted-level-1: #f6e4d2;\n  --sklearn-color-unfitted-level-2: #ffe0b3;\n  --sklearn-color-unfitted-level-3: chocolate;\n  /* Definition of color scheme for fitted estimators */\n  --sklearn-color-fitted-level-0: #f0f8ff;\n  --sklearn-color-fitted-level-1: #d4ebff;\n  --sklearn-color-fitted-level-2: #b3dbfd;\n  --sklearn-color-fitted-level-3: cornflowerblue;\n\n  /* Specific color for light theme */\n  --sklearn-color-text-on-default-background: var(--sg-text-color, var(--theme-code-foreground, var(--jp-content-font-color1, black)));\n  --sklearn-color-background: var(--sg-background-color, var(--theme-background, var(--jp-layout-color0, white)));\n  --sklearn-color-border-box: var(--sg-text-color, var(--theme-code-foreground, var(--jp-content-font-color1, black)));\n  --sklearn-color-icon: #696969;\n\n  @media (prefers-color-scheme: dark) {\n    /* Redefinition of color scheme for dark theme */\n    --sklearn-color-text-on-default-background: var(--sg-text-color, var(--theme-code-foreground, var(--jp-content-font-color1, white)));\n    --sklearn-color-background: var(--sg-background-color, var(--theme-background, var(--jp-layout-color0, #111)));\n    --sklearn-color-border-box: var(--sg-text-color, var(--theme-code-foreground, var(--jp-content-font-color1, white)));\n    --sklearn-color-icon: #878787;\n  }\n}\n\n#sk-container-id-1 {\n  color: var(--sklearn-color-text);\n}\n\n#sk-container-id-1 pre {\n  padding: 0;\n}\n\n#sk-container-id-1 input.sk-hidden--visually {\n  border: 0;\n  clip: rect(1px 1px 1px 1px);\n  clip: rect(1px, 1px, 1px, 1px);\n  height: 1px;\n  margin: -1px;\n  overflow: hidden;\n  padding: 0;\n  position: absolute;\n  width: 1px;\n}\n\n#sk-container-id-1 div.sk-dashed-wrapped {\n  border: 1px dashed var(--sklearn-color-line);\n  margin: 0 0.4em 0.5em 0.4em;\n  box-sizing: border-box;\n  padding-bottom: 0.4em;\n  background-color: var(--sklearn-color-background);\n}\n\n#sk-container-id-1 div.sk-container {\n  /* jupyter's `normalize.less` sets `[hidden] { display: none; }`\n     but bootstrap.min.css set `[hidden] { display: none !important; }`\n     so we also need the `!important` here to be able to override the\n     default hidden behavior on the sphinx rendered scikit-learn.org.\n     See: https://github.com/scikit-learn/scikit-learn/issues/21755 */\n  display: inline-block !important;\n  position: relative;\n}\n\n#sk-container-id-1 div.sk-text-repr-fallback {\n  display: none;\n}\n\ndiv.sk-parallel-item,\ndiv.sk-serial,\ndiv.sk-item {\n  /* draw centered vertical line to link estimators */\n  background-image: linear-gradient(var(--sklearn-color-text-on-default-background), var(--sklearn-color-text-on-default-background));\n  background-size: 2px 100%;\n  background-repeat: no-repeat;\n  background-position: center center;\n}\n\n/* Parallel-specific style estimator block */\n\n#sk-container-id-1 div.sk-parallel-item::after {\n  content: \"\";\n  width: 100%;\n  border-bottom: 2px solid var(--sklearn-color-text-on-default-background);\n  flex-grow: 1;\n}\n\n#sk-container-id-1 div.sk-parallel {\n  display: flex;\n  align-items: stretch;\n  justify-content: center;\n  background-color: var(--sklearn-color-background);\n  position: relative;\n}\n\n#sk-container-id-1 div.sk-parallel-item {\n  display: flex;\n  flex-direction: column;\n}\n\n#sk-container-id-1 div.sk-parallel-item:first-child::after {\n  align-self: flex-end;\n  width: 50%;\n}\n\n#sk-container-id-1 div.sk-parallel-item:last-child::after {\n  align-self: flex-start;\n  width: 50%;\n}\n\n#sk-container-id-1 div.sk-parallel-item:only-child::after {\n  width: 0;\n}\n\n/* Serial-specific style estimator block */\n\n#sk-container-id-1 div.sk-serial {\n  display: flex;\n  flex-direction: column;\n  align-items: center;\n  background-color: var(--sklearn-color-background);\n  padding-right: 1em;\n  padding-left: 1em;\n}\n\n\n/* Toggleable style: style used for estimator/Pipeline/ColumnTransformer box that is\nclickable and can be expanded/collapsed.\n- Pipeline and ColumnTransformer use this feature and define the default style\n- Estimators will overwrite some part of the style using the `sk-estimator` class\n*/\n\n/* Pipeline and ColumnTransformer style (default) */\n\n#sk-container-id-1 div.sk-toggleable {\n  /* Default theme specific background. It is overwritten whether we have a\n  specific estimator or a Pipeline/ColumnTransformer */\n  background-color: var(--sklearn-color-background);\n}\n\n/* Toggleable label */\n#sk-container-id-1 label.sk-toggleable__label {\n  cursor: pointer;\n  display: block;\n  width: 100%;\n  margin-bottom: 0;\n  padding: 0.5em;\n  box-sizing: border-box;\n  text-align: center;\n}\n\n#sk-container-id-1 label.sk-toggleable__label-arrow:before {\n  /* Arrow on the left of the label */\n  content: \"▸\";\n  float: left;\n  margin-right: 0.25em;\n  color: var(--sklearn-color-icon);\n}\n\n#sk-container-id-1 label.sk-toggleable__label-arrow:hover:before {\n  color: var(--sklearn-color-text);\n}\n\n/* Toggleable content - dropdown */\n\n#sk-container-id-1 div.sk-toggleable__content {\n  max-height: 0;\n  max-width: 0;\n  overflow: hidden;\n  text-align: left;\n  /* unfitted */\n  background-color: var(--sklearn-color-unfitted-level-0);\n}\n\n#sk-container-id-1 div.sk-toggleable__content.fitted {\n  /* fitted */\n  background-color: var(--sklearn-color-fitted-level-0);\n}\n\n#sk-container-id-1 div.sk-toggleable__content pre {\n  margin: 0.2em;\n  border-radius: 0.25em;\n  color: var(--sklearn-color-text);\n  /* unfitted */\n  background-color: var(--sklearn-color-unfitted-level-0);\n}\n\n#sk-container-id-1 div.sk-toggleable__content.fitted pre {\n  /* unfitted */\n  background-color: var(--sklearn-color-fitted-level-0);\n}\n\n#sk-container-id-1 input.sk-toggleable__control:checked~div.sk-toggleable__content {\n  /* Expand drop-down */\n  max-height: 200px;\n  max-width: 100%;\n  overflow: auto;\n}\n\n#sk-container-id-1 input.sk-toggleable__control:checked~label.sk-toggleable__label-arrow:before {\n  content: \"▾\";\n}\n\n/* Pipeline/ColumnTransformer-specific style */\n\n#sk-container-id-1 div.sk-label input.sk-toggleable__control:checked~label.sk-toggleable__label {\n  color: var(--sklearn-color-text);\n  background-color: var(--sklearn-color-unfitted-level-2);\n}\n\n#sk-container-id-1 div.sk-label.fitted input.sk-toggleable__control:checked~label.sk-toggleable__label {\n  background-color: var(--sklearn-color-fitted-level-2);\n}\n\n/* Estimator-specific style */\n\n/* Colorize estimator box */\n#sk-container-id-1 div.sk-estimator input.sk-toggleable__control:checked~label.sk-toggleable__label {\n  /* unfitted */\n  background-color: var(--sklearn-color-unfitted-level-2);\n}\n\n#sk-container-id-1 div.sk-estimator.fitted input.sk-toggleable__control:checked~label.sk-toggleable__label {\n  /* fitted */\n  background-color: var(--sklearn-color-fitted-level-2);\n}\n\n#sk-container-id-1 div.sk-label label.sk-toggleable__label,\n#sk-container-id-1 div.sk-label label {\n  /* The background is the default theme color */\n  color: var(--sklearn-color-text-on-default-background);\n}\n\n/* On hover, darken the color of the background */\n#sk-container-id-1 div.sk-label:hover label.sk-toggleable__label {\n  color: var(--sklearn-color-text);\n  background-color: var(--sklearn-color-unfitted-level-2);\n}\n\n/* Label box, darken color on hover, fitted */\n#sk-container-id-1 div.sk-label.fitted:hover label.sk-toggleable__label.fitted {\n  color: var(--sklearn-color-text);\n  background-color: var(--sklearn-color-fitted-level-2);\n}\n\n/* Estimator label */\n\n#sk-container-id-1 div.sk-label label {\n  font-family: monospace;\n  font-weight: bold;\n  display: inline-block;\n  line-height: 1.2em;\n}\n\n#sk-container-id-1 div.sk-label-container {\n  text-align: center;\n}\n\n/* Estimator-specific */\n#sk-container-id-1 div.sk-estimator {\n  font-family: monospace;\n  border: 1px dotted var(--sklearn-color-border-box);\n  border-radius: 0.25em;\n  box-sizing: border-box;\n  margin-bottom: 0.5em;\n  /* unfitted */\n  background-color: var(--sklearn-color-unfitted-level-0);\n}\n\n#sk-container-id-1 div.sk-estimator.fitted {\n  /* fitted */\n  background-color: var(--sklearn-color-fitted-level-0);\n}\n\n/* on hover */\n#sk-container-id-1 div.sk-estimator:hover {\n  /* unfitted */\n  background-color: var(--sklearn-color-unfitted-level-2);\n}\n\n#sk-container-id-1 div.sk-estimator.fitted:hover {\n  /* fitted */\n  background-color: var(--sklearn-color-fitted-level-2);\n}\n\n/* Specification for estimator info (e.g. \"i\" and \"?\") */\n\n/* Common style for \"i\" and \"?\" */\n\n.sk-estimator-doc-link,\na:link.sk-estimator-doc-link,\na:visited.sk-estimator-doc-link {\n  float: right;\n  font-size: smaller;\n  line-height: 1em;\n  font-family: monospace;\n  background-color: var(--sklearn-color-background);\n  border-radius: 1em;\n  height: 1em;\n  width: 1em;\n  text-decoration: none !important;\n  margin-left: 1ex;\n  /* unfitted */\n  border: var(--sklearn-color-unfitted-level-1) 1pt solid;\n  color: var(--sklearn-color-unfitted-level-1);\n}\n\n.sk-estimator-doc-link.fitted,\na:link.sk-estimator-doc-link.fitted,\na:visited.sk-estimator-doc-link.fitted {\n  /* fitted */\n  border: var(--sklearn-color-fitted-level-1) 1pt solid;\n  color: var(--sklearn-color-fitted-level-1);\n}\n\n/* On hover */\ndiv.sk-estimator:hover .sk-estimator-doc-link:hover,\n.sk-estimator-doc-link:hover,\ndiv.sk-label-container:hover .sk-estimator-doc-link:hover,\n.sk-estimator-doc-link:hover {\n  /* unfitted */\n  background-color: var(--sklearn-color-unfitted-level-3);\n  color: var(--sklearn-color-background);\n  text-decoration: none;\n}\n\ndiv.sk-estimator.fitted:hover .sk-estimator-doc-link.fitted:hover,\n.sk-estimator-doc-link.fitted:hover,\ndiv.sk-label-container:hover .sk-estimator-doc-link.fitted:hover,\n.sk-estimator-doc-link.fitted:hover {\n  /* fitted */\n  background-color: var(--sklearn-color-fitted-level-3);\n  color: var(--sklearn-color-background);\n  text-decoration: none;\n}\n\n/* Span, style for the box shown on hovering the info icon */\n.sk-estimator-doc-link span {\n  display: none;\n  z-index: 9999;\n  position: relative;\n  font-weight: normal;\n  right: .2ex;\n  padding: .5ex;\n  margin: .5ex;\n  width: min-content;\n  min-width: 20ex;\n  max-width: 50ex;\n  color: var(--sklearn-color-text);\n  box-shadow: 2pt 2pt 4pt #999;\n  /* unfitted */\n  background: var(--sklearn-color-unfitted-level-0);\n  border: .5pt solid var(--sklearn-color-unfitted-level-3);\n}\n\n.sk-estimator-doc-link.fitted span {\n  /* fitted */\n  background: var(--sklearn-color-fitted-level-0);\n  border: var(--sklearn-color-fitted-level-3);\n}\n\n.sk-estimator-doc-link:hover span {\n  display: block;\n}\n\n/* \"?\"-specific style due to the `<a>` HTML tag */\n\n#sk-container-id-1 a.estimator_doc_link {\n  float: right;\n  font-size: 1rem;\n  line-height: 1em;\n  font-family: monospace;\n  background-color: var(--sklearn-color-background);\n  border-radius: 1rem;\n  height: 1rem;\n  width: 1rem;\n  text-decoration: none;\n  /* unfitted */\n  color: var(--sklearn-color-unfitted-level-1);\n  border: var(--sklearn-color-unfitted-level-1) 1pt solid;\n}\n\n#sk-container-id-1 a.estimator_doc_link.fitted {\n  /* fitted */\n  border: var(--sklearn-color-fitted-level-1) 1pt solid;\n  color: var(--sklearn-color-fitted-level-1);\n}\n\n/* On hover */\n#sk-container-id-1 a.estimator_doc_link:hover {\n  /* unfitted */\n  background-color: var(--sklearn-color-unfitted-level-3);\n  color: var(--sklearn-color-background);\n  text-decoration: none;\n}\n\n#sk-container-id-1 a.estimator_doc_link.fitted:hover {\n  /* fitted */\n  background-color: var(--sklearn-color-fitted-level-3);\n}\n</style><div id=\"sk-container-id-1\" class=\"sk-top-container\"><div class=\"sk-text-repr-fallback\"><pre>KMeans(n_clusters=12)</pre><b>In a Jupyter environment, please rerun this cell to show the HTML representation or trust the notebook. <br />On GitHub, the HTML representation is unable to render, please try loading this page with nbviewer.org.</b></div><div class=\"sk-container\" hidden><div class=\"sk-item\"><div class=\"sk-estimator fitted sk-toggleable\"><input class=\"sk-toggleable__control sk-hidden--visually\" id=\"sk-estimator-id-1\" type=\"checkbox\" checked><label for=\"sk-estimator-id-1\" class=\"sk-toggleable__label fitted sk-toggleable__label-arrow fitted\">&nbsp;&nbsp;KMeans<a class=\"sk-estimator-doc-link fitted\" rel=\"noreferrer\" target=\"_blank\" href=\"https://scikit-learn.org/1.4/modules/generated/sklearn.cluster.KMeans.html\">?<span>Documentation for KMeans</span></a><span class=\"sk-estimator-doc-link fitted\">i<span>Fitted</span></span></label><div class=\"sk-toggleable__content fitted\"><pre>KMeans(n_clusters=12)</pre></div> </div></div></div></div>"
     },
     "execution_count": 2,
     "metadata": {},
     "output_type": "execute_result"
    }
   ],
   "source": [
    "from sklearn.cluster import KMeans\n",
    "\n",
    "# Loại bỏ các hàng trùng lặp\n",
    "data = data.drop_duplicates()\n",
    "\n",
    "# Khởi tạo mô hình\n",
    "kmeans = KMeans(n_clusters=12)\n",
    "\n",
    "# Huấn luyện mô hình\n",
    "kmeans.fit(train_data[['user_id', 'product_id']])\n"
   ],
   "metadata": {
    "collapsed": false,
    "ExecuteTime": {
     "end_time": "2024-03-30T07:53:43.537254Z",
     "start_time": "2024-03-30T07:53:42.621917Z"
    }
   },
   "id": "4e95165165276086",
   "execution_count": 2
  },
  {
   "cell_type": "code",
   "outputs": [],
   "source": [
    "# Dự đoán nhãn cụm cho tất cả các cặp (user_id, product_id)\n",
    "data['cluster'] = kmeans.predict(data[['user_id', 'product_id']])\n"
   ],
   "metadata": {
    "collapsed": false,
    "ExecuteTime": {
     "end_time": "2024-03-30T07:53:43.558742Z",
     "start_time": "2024-03-30T07:53:43.540266Z"
    }
   },
   "id": "2f86354e54cc725a",
   "execution_count": 3
  },
  {
   "cell_type": "code",
   "outputs": [
    {
     "name": "stdout",
     "output_type": "stream",
     "text": [
      "{0: [1], 1: [5, 4], 2: [4, 5], 3: [1, 2], 4: [2, 3], 5: [3, 2, 4], 6: [2, 3], 7: [1], 8: [5, 4], 9: [3, 2], 10: [4, 3], 11: [3]}\n"
     ]
    }
   ],
   "source": [
    "# Tạo một từ điển để lưu trữ sản phẩm được gợi ý cho mỗi nhóm\n",
    "recommendations = {}\n",
    "\n",
    "for cluster_id in range(12):  # vì n_clusters=12\n",
    "    subset = data[data['cluster'] == cluster_id]\n",
    "    top_products = subset['product_id'].value_counts().index.tolist()\n",
    "    recommendations[cluster_id] = top_products[:5]  # Gợi ý 5 sản phẩm hàng đầu\n",
    "\n",
    "print(recommendations)\n"
   ],
   "metadata": {
    "collapsed": false,
    "ExecuteTime": {
     "end_time": "2024-03-30T07:53:43.600133Z",
     "start_time": "2024-03-30T07:53:43.569760Z"
    }
   },
   "id": "5181507438cb8533",
   "execution_count": 4
  },
  {
   "cell_type": "code",
   "outputs": [
    {
     "name": "stdout",
     "output_type": "stream",
     "text": [
      "Recommendations for user 1: [1]\n"
     ]
    },
    {
     "name": "stderr",
     "output_type": "stream",
     "text": [
      "C:\\Study\\AI\\PhanMemGoiY\\venv\\Lib\\site-packages\\sklearn\\base.py:493: UserWarning: X does not have valid feature names, but KMeans was fitted with feature names\n",
      "  warnings.warn(\n"
     ]
    }
   ],
   "source": [
    "def get_recommendation(user_id):\n",
    "    cluster = kmeans.predict([[user_id, 0]])[0]\n",
    "    return recommendations[cluster]\n",
    "\n",
    "# Sử dụng\n",
    "user_id = 1\n",
    "print(f'Recommendations for user {user_id}: {get_recommendation(user_id)}')\n"
   ],
   "metadata": {
    "collapsed": false,
    "ExecuteTime": {
     "end_time": "2024-03-30T07:53:43.620579Z",
     "start_time": "2024-03-30T07:53:43.604149Z"
    }
   },
   "id": "2a08211326ad2aed",
   "execution_count": 5
  },
  {
   "cell_type": "code",
   "outputs": [
    {
     "name": "stdout",
     "output_type": "stream",
     "text": [
      "Recommendations for user 1: [1, 2]\n"
     ]
    },
    {
     "name": "stderr",
     "output_type": "stream",
     "text": [
      "C:\\Study\\AI\\PhanMemGoiY\\venv\\Lib\\site-packages\\sklearn\\base.py:493: UserWarning: X does not have valid feature names, but KMeans was fitted with feature names\n",
      "  warnings.warn(\n"
     ]
    }
   ],
   "source": [
    "import pandas as pd\n",
    "from sklearn.cluster import KMeans\n",
    "\n",
    "# Đọc dữ liệu từ file CSV\n",
    "data = pd.read_csv('purchase_history.csv')\n",
    "\n",
    "# Loại bỏ các hàng trùng lặp\n",
    "data = data.drop_duplicates()\n",
    "\n",
    "# Khởi tạo và huấn luyện mô hình KMeans với n_clusters=12\n",
    "kmeans = KMeans(n_clusters=12)\n",
    "kmeans.fit(data[['user_id', 'product_id']])\n",
    "\n",
    "# Dự đoán nhãn cụm cho tất cả các cặp (user_id, product_id)\n",
    "data['cluster'] = kmeans.predict(data[['user_id', 'product_id']])\n",
    "\n",
    "# Tạo một từ điển để lưu trữ sản phẩm được gợi ý cho mỗi nhóm\n",
    "recommendations = {}\n",
    "\n",
    "for cluster_id in range(12):  # vì n_clusters=12\n",
    "    subset = data[data['cluster'] == cluster_id]\n",
    "    top_products = subset['product_id'].value_counts().index.tolist()\n",
    "    recommendations[cluster_id] = top_products[:5]  # Gợi ý 5 sản phẩm hàng đầu\n",
    "\n",
    "# Gợi ý sản phẩm cho một người dùng cụ thể\n",
    "def get_recommendation(user_id):\n",
    "    cluster = kmeans.predict([[user_id, 0]])[0]\n",
    "    return recommendations[cluster]\n",
    "\n",
    "# Sử dụng\n",
    "user_id = 1\n",
    "print(f'Recommendations for user {user_id}: {get_recommendation(user_id)}')\n"
   ],
   "metadata": {
    "collapsed": false,
    "ExecuteTime": {
     "end_time": "2024-03-30T07:53:43.679564Z",
     "start_time": "2024-03-30T07:53:43.623600Z"
    }
   },
   "id": "fe56bc882719df50",
   "execution_count": 6
  },
  {
   "cell_type": "code",
   "outputs": [],
   "source": [
    "products = {\n",
    "    1: 'Macbool Pro',\n",
    "    2: 'Iphone',\n",
    "    3: 'Airpod',\n",
    "    4: 'Apple Watch',\n",
    "    5: 'IMac'\n",
    "}\n"
   ],
   "metadata": {
    "collapsed": false,
    "ExecuteTime": {
     "end_time": "2024-03-30T07:53:43.696291Z",
     "start_time": "2024-03-30T07:53:43.682586Z"
    }
   },
   "id": "a1a0e3588ce41862",
   "execution_count": 7
  },
  {
   "cell_type": "code",
   "outputs": [
    {
     "name": "stdout",
     "output_type": "stream",
     "text": [
      "Recommendations for each cluster:\n",
      "Cluster 1: ['Macbool Pro', 'Iphone']\n",
      "Cluster 2: ['Airpod', 'Iphone', 'Apple Watch']\n",
      "Cluster 3: ['Airpod', 'Apple Watch']\n",
      "Cluster 4: ['IMac']\n",
      "Cluster 5: ['Macbool Pro', 'Iphone']\n",
      "Cluster 6: ['IMac', 'Apple Watch']\n",
      "Cluster 7: ['Iphone', 'Airpod']\n",
      "Cluster 8: ['Macbool Pro']\n",
      "Cluster 9: ['Airpod', 'Apple Watch']\n",
      "Cluster 10: ['Iphone', 'Airpod', 'Apple Watch', 'IMac']\n",
      "Cluster 11: ['Apple Watch', 'Airpod']\n",
      "Cluster 12: ['Iphone']\n",
      "\n",
      "Recommendations for user 1: ['Macbool Pro', 'Iphone']\n"
     ]
    },
    {
     "name": "stderr",
     "output_type": "stream",
     "text": [
      "C:\\Study\\AI\\PhanMemGoiY\\venv\\Lib\\site-packages\\sklearn\\base.py:493: UserWarning: X does not have valid feature names, but KMeans was fitted with feature names\n",
      "  warnings.warn(\n"
     ]
    }
   ],
   "source": [
    "# In sản phẩm được gợi ý cho mỗi nhóm\n",
    "print(\"Recommendations for each cluster:\")\n",
    "for cluster_id, product_ids in recommendations.items():\n",
    "    recommended_products = [products[product_id] for product_id in product_ids]\n",
    "    print(f\"Cluster {cluster_id + 1}: {recommended_products}\")\n",
    "\n",
    "# Gợi ý sản phẩm cho một người dùng cụ thể\n",
    "def get_recommendation(user_id):\n",
    "    cluster = kmeans.predict([[user_id, 0]])[0]\n",
    "    product_ids = recommendations[cluster]\n",
    "    recommended_products = [products[product_id] for product_id in product_ids]\n",
    "    return recommended_products\n",
    "\n",
    "# Sử dụng\n",
    "user_id = 1\n",
    "print(f\"\\nRecommendations for user {user_id}: {get_recommendation(user_id)}\")"
   ],
   "metadata": {
    "collapsed": false,
    "ExecuteTime": {
     "end_time": "2024-03-30T07:53:43.716127Z",
     "start_time": "2024-03-30T07:53:43.700309Z"
    }
   },
   "id": "5e6d047134740ef7",
   "execution_count": 8
  },
  {
   "cell_type": "code",
   "outputs": [],
   "source": [
    "import sys\n",
    "from PyQt5.QtWidgets import QApplication, QWidget, QLabel, QVBoxLayout, QHBoxLayout, QPushButton, QComboBox, QListWidget, QListWidgetItem, QTextBrowser\n",
    "from PyQt5.QtGui import QFont\n",
    "\n",
    "class RecommendationApp(QWidget):\n",
    "    def __init__(self):\n",
    "        super().__init__()\n",
    "        self.initUI()\n",
    "        \n",
    "    def initUI(self):\n",
    "        self.setWindowTitle('Product Recommendation System')\n",
    "        self.setGeometry(100, 100, 600, 400)\n",
    "        \n",
    "        main_layout = QHBoxLayout()\n",
    "        \n",
    "        # Left Panel\n",
    "        left_panel = QVBoxLayout()\n",
    "        \n",
    "        self.user_label = QLabel('Select User:')\n",
    "        self.user_combobox = QComboBox()\n",
    "        self.user_combobox.addItems(['1', '2', '3', '4', '5'])\n",
    "        \n",
    "        self.recommendation_button = QPushButton('Get Recommendations')\n",
    "        self.recommendation_button.clicked.connect(self.show_recommendations)\n",
    "        \n",
    "        left_panel.addWidget(self.user_label)\n",
    "        left_panel.addWidget(self.user_combobox)\n",
    "        left_panel.addWidget(self.recommendation_button)\n",
    "        \n",
    "        # Right Panel\n",
    "        right_panel = QVBoxLayout()\n",
    "        \n",
    "        self.result_label = QLabel('Recommendations:')\n",
    "        self.result_list = QListWidget()\n",
    "        self.result_list.itemClicked.connect(self.show_product_details)\n",
    "        \n",
    "        right_panel.addWidget(self.result_label)\n",
    "        right_panel.addWidget(self.result_list)\n",
    "        \n",
    "        # Details Panel\n",
    "        self.details_label = QLabel('Product Details:')\n",
    "        self.details_text = QTextBrowser()\n",
    "        self.details_text.setFont(QFont('Arial', 10))\n",
    "        \n",
    "        # Combine panels\n",
    "        main_layout.addLayout(left_panel)\n",
    "        main_layout.addLayout(right_panel)\n",
    "        main_layout.addWidget(self.details_label)\n",
    "        main_layout.addWidget(self.details_text)\n",
    "        \n",
    "        self.setLayout(main_layout)\n",
    "        \n",
    "    def show_recommendations(self):\n",
    "        self.result_list.clear()\n",
    "        user_id = int(self.user_combobox.currentText())\n",
    "        recommendations = get_recommendation(user_id)\n",
    "        for product in recommendations:\n",
    "            self.result_list.addItem(product)\n",
    "    \n",
    "    def show_product_details(self, item):\n",
    "        product_name = item.text()\n",
    "        product_details = products_details.get(product_name, 'Details not available')\n",
    "        self.details_text.setText(product_details)\n",
    "\n",
    "def get_recommendation(user_id):\n",
    "    cluster = kmeans.predict([[user_id, 0]])[0]\n",
    "    product_ids = recommendations[cluster]\n",
    "    recommended_products = [products[product_id] for product_id in product_ids]\n",
    "    return recommended_products\n",
    "\n",
    "# Danh sách sản phẩm và chi tiết sản phẩm\n",
    "products = {\n",
    "    1: 'Macbook Pro',\n",
    "    2: 'Iphone',\n",
    "    3: 'Airpod',\n",
    "    4: 'Apple Watch',\n",
    "    5: 'IMac'\n",
    "}\n",
    "\n",
    "products_details = {\n",
    "    'Macbook Pro': 'Powerful laptop with high performance.',\n",
    "    'Iphone': 'Latest smartphone with great camera.',\n",
    "    'Airpod': 'High-quality sound headphones.',\n",
    "    'Apple Watch': 'Smartwatch with various health features.',\n",
    "    'IMac': 'All-in-one desktop computer with high resolution.'\n",
    "}\n",
    "\n",
    "if __name__ == '__main__':\n",
    "    app = QApplication(sys.argv)\n",
    "    window = RecommendationApp()\n",
    "    window.show()\n",
    "    sys.exit(app.exec_())\n"
   ],
   "metadata": {
    "collapsed": false,
    "is_executing": true,
    "ExecuteTime": {
     "start_time": "2024-03-30T08:09:26.290627Z"
    }
   },
   "id": "1fe630e28aff3e3d",
   "execution_count": null
  }
 ],
 "metadata": {
  "kernelspec": {
   "display_name": "Python 3",
   "language": "python",
   "name": "python3"
  },
  "language_info": {
   "codemirror_mode": {
    "name": "ipython",
    "version": 2
   },
   "file_extension": ".py",
   "mimetype": "text/x-python",
   "name": "python",
   "nbconvert_exporter": "python",
   "pygments_lexer": "ipython2",
   "version": "2.7.6"
  }
 },
 "nbformat": 4,
 "nbformat_minor": 5
}
